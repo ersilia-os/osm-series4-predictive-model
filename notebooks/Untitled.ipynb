{
 "cells": [
  {
   "cell_type": "code",
   "execution_count": 17,
   "id": "90925ac1",
   "metadata": {},
   "outputs": [],
   "source": [
    "import os\n",
    "import pandas as pd\n",
    "from rdkit import Chem\n",
    "from rdkit.Chem import AllChem\n",
    "from rdkit.DataStructs import BulkTanimotoSimilarity\n",
    "import numpy as np\n",
    "\n",
    "import sys\n",
    "sys.path.append(\"../src\")\n",
    "\n",
    "from fingerprinter import get_fingerprints"
   ]
  },
  {
   "cell_type": "code",
   "execution_count": 32,
   "id": "91ae60d2",
   "metadata": {},
   "outputs": [],
   "source": [
    "df = pd.read_csv(\"../data/series4_processed.csv\")\n",
    "\n",
    "active_smiles = list(df[df[\"bin_activity\"] == 1][\"smiles\"])\n",
    "active_mols=[Chem.MolFromSmiles(smi) for smi in active_smiles]\n",
    "\n",
    "input_smiles=\"c1(Br)ccc(-c2nnc3cncc(OCCc4cc(F)c(F)cc4)n32)cc1\"\n",
    "input_mol=Chem.MolFromSmiles(input_smiles)\n"
   ]
  },
  {
   "cell_type": "code",
   "execution_count": 36,
   "id": "e299fae8",
   "metadata": {},
   "outputs": [
    {
     "data": {
      "text/plain": [
       "[0.38926174496644295,\n",
       " 0.4295774647887324,\n",
       " 0.6311475409836066,\n",
       " 0.6942148760330579,\n",
       " 0.35802469135802467,\n",
       " 0.34810126582278483,\n",
       " 1.0,\n",
       " 0.6328125,\n",
       " 0.5955882352941176,\n",
       " 0.6190476190476191,\n",
       " 0.3710691823899371,\n",
       " 0.5111111111111111,\n",
       " 0.4154929577464789,\n",
       " 0.39072847682119205,\n",
       " 0.5223880597014925,\n",
       " 0.4888888888888889,\n",
       " 0.5238095238095238,\n",
       " 0.8490566037735849,\n",
       " 0.6349206349206349,\n",
       " 0.6349206349206349,\n",
       " 0.34911242603550297,\n",
       " 0.45454545454545453,\n",
       " 0.5785714285714286,\n",
       " 0.3575757575757576,\n",
       " 0.39072847682119205,\n",
       " 0.7213114754098361,\n",
       " 0.4925373134328358,\n",
       " 0.41420118343195267,\n",
       " 0.5,\n",
       " 0.5294117647058824,\n",
       " 0.7073170731707317,\n",
       " 0.8440366972477065,\n",
       " 0.8108108108108109,\n",
       " 0.7964601769911505,\n",
       " 0.4583333333333333,\n",
       " 0.4896551724137931,\n",
       " 0.5035971223021583,\n",
       " 0.5625,\n",
       " 0.6090225563909775,\n",
       " 0.4666666666666667,\n",
       " 0.49044585987261147,\n",
       " 0.7096774193548387,\n",
       " 0.7073170731707317,\n",
       " 0.8440366972477065,\n",
       " 0.616,\n",
       " 0.34911242603550297,\n",
       " 0.5373134328358209,\n",
       " 0.4927536231884058,\n",
       " 0.5230769230769231,\n",
       " 0.5223880597014925,\n",
       " 0.6198347107438017,\n",
       " 0.6097560975609756,\n",
       " 0.5441176470588235,\n",
       " 0.4861111111111111,\n",
       " 0.4861111111111111,\n",
       " 0.48299319727891155,\n",
       " 0.5507246376811594,\n",
       " 0.5808823529411765,\n",
       " 0.49295774647887325,\n",
       " 0.635593220338983,\n",
       " 0.45454545454545453,\n",
       " 0.68,\n",
       " 0.5179856115107914,\n",
       " 0.43703703703703706,\n",
       " 0.6106870229007634,\n",
       " 0.75,\n",
       " 0.5230769230769231,\n",
       " 1.0,\n",
       " 0.7706422018348624,\n",
       " 0.6456692913385826,\n",
       " 0.5434782608695652,\n",
       " 0.4482758620689655,\n",
       " 0.44755244755244755,\n",
       " 0.46099290780141844,\n",
       " 0.42758620689655175,\n",
       " 0.6141732283464567,\n",
       " 0.3918918918918919,\n",
       " 0.3918918918918919,\n",
       " 0.5597014925373134,\n",
       " 0.46153846153846156,\n",
       " 0.4225352112676056,\n",
       " 0.5,\n",
       " 0.4928571428571429,\n",
       " 0.6349206349206349,\n",
       " 0.4642857142857143,\n",
       " 0.5447761194029851,\n",
       " 0.5939849624060151,\n",
       " 0.6090225563909775,\n",
       " 0.6044776119402985,\n",
       " 0.6183206106870229,\n",
       " 0.40397350993377484,\n",
       " 0.47101449275362317,\n",
       " 0.5426356589147286,\n",
       " 0.4642857142857143,\n",
       " 0.3525641025641026,\n",
       " 0.6171875,\n",
       " 0.5037037037037037,\n",
       " 0.6183206106870229,\n",
       " 0.5472972972972973,\n",
       " 0.460431654676259,\n",
       " 0.4785714285714286,\n",
       " 0.6328125,\n",
       " 0.49640287769784175,\n",
       " 0.4583333333333333,\n",
       " 0.391025641025641,\n",
       " 0.45774647887323944,\n",
       " 0.5342465753424658,\n",
       " 0.527027027027027,\n",
       " 0.4189189189189189,\n",
       " 0.3987341772151899,\n",
       " 0.4189189189189189,\n",
       " 0.4155844155844156,\n",
       " 0.4304635761589404,\n",
       " 0.6328125,\n",
       " 0.44966442953020136,\n",
       " 0.5342465753424658,\n",
       " 0.6230769230769231,\n",
       " 0.5620437956204379,\n",
       " 0.6230769230769231,\n",
       " 0.3987341772151899,\n",
       " 0.6328125,\n",
       " 0.41496598639455784,\n",
       " 0.4594594594594595,\n",
       " 0.44966442953020136,\n",
       " 0.4,\n",
       " 0.4405594405594406,\n",
       " 0.4405594405594406,\n",
       " 0.5112781954887218,\n",
       " 0.43884892086330934,\n",
       " 0.7798165137614679,\n",
       " 0.7844827586206896,\n",
       " 0.4236111111111111,\n",
       " 0.5223880597014925,\n",
       " 0.5223880597014925,\n",
       " 0.6724137931034483,\n",
       " 0.646551724137931,\n",
       " 0.553030303030303,\n",
       " 0.5367647058823529,\n",
       " 0.6141732283464567,\n",
       " 0.624,\n",
       " 0.5873015873015873,\n",
       " 0.75,\n",
       " 0.75,\n",
       " 0.6896551724137931,\n",
       " 0.7706422018348624,\n",
       " 0.5109489051094891,\n",
       " 0.5109489051094891,\n",
       " 0.42857142857142855,\n",
       " 0.5114503816793893,\n",
       " 0.616,\n",
       " 0.38562091503267976,\n",
       " 0.3959731543624161,\n",
       " 0.6504065040650406,\n",
       " 0.5833333333333334,\n",
       " 0.5923076923076923,\n",
       " 0.6090225563909775,\n",
       " 0.6198347107438017,\n",
       " 0.6349206349206349,\n",
       " 0.839622641509434,\n",
       " 0.782608695652174,\n",
       " 0.7217391304347827,\n",
       " 0.8108108108108109]"
      ]
     },
     "execution_count": 36,
     "metadata": {},
     "output_type": "execute_result"
    }
   ],
   "source": [
    "def mols_to_fingerprints(molecules, radius=3, useCounts=True, useFeatures=True):\n",
    "    fingerprints = [AllChem.GetMorganFingerprint(\n",
    "        mol,\n",
    "        radius,\n",
    "        useCounts=useCounts,\n",
    "        useFeatures=useFeatures\n",
    "    ) for mol in molecules]\n",
    "    return fingerprints\n",
    "    \n",
    "query_fp = mols_to_fingerprints([input_mol])\n",
    "ref_fps=mols_to_fingerprints(active_mols)\n",
    "\n",
    "tanimoto=np.array([np.max(BulkTanimotoSimilarity(fp, ref_fps)) for fp in query_fp])[0]\n",
    "tanimoto\n",
    "tanimoto2=BulkTanimotoSimilarity(query_fp[0], ref_fps)\n",
    "tanimoto2"
   ]
  },
  {
   "cell_type": "code",
   "execution_count": 37,
   "id": "c03da7d5",
   "metadata": {},
   "outputs": [
    {
     "data": {
      "image/png": "[encoded data removed]",
      "text/plain": [
       "<rdkit.Chem.rdchem.Mol at 0x1cd6b5f6f30>"
      ]
     },
     "execution_count": 37,
     "metadata": {},
     "output_type": "execute_result"
    }
   ],
   "source": [
    "active_mols[6]"
   ]
  },
  {
   "cell_type": "code",
   "execution_count": 39,
   "id": "820d79d1",
   "metadata": {},
   "outputs": [
    {
     "data": {
      "image/png": "[encoded data removed]",
      "text/plain": [
       "<rdkit.Chem.rdchem.Mol at 0x1cd6c691f80>"
      ]
     },
     "execution_count": 39,
     "metadata": {},
     "output_type": "execute_result"
    }
   ],
   "source": [
    "input_mol"
   ]
  },
  {
   "cell_type": "code",
   "execution_count": null,
   "id": "102496d3",
   "metadata": {},
   "outputs": [],
   "source": [
    "import numpy as np\n",
    "from rdkit.Chem import DataStructs\n",
    "from typing import List\n",
    "from rdkit.Chem import AllChem\n",
    "\n",
    "from scoring.component_parameters import ComponentParameters\n",
    "from scoring.score_components.base_score_component import BaseScoreComponent\n",
    "from scoring.score_summary import ComponentSummary\n",
    "\n",
    "\n",
    "class TanimotoSimilarity(BaseScoreComponent):\n",
    "    def __init__(self, parameters: ComponentParameters):\n",
    "        super().__init__(parameters)\n",
    "        self._fingerprints, _ = self._smiles_to_fingerprints(self.parameters.smiles)\n",
    "\n",
    "    def calculate_score(self, molecules: List) -> ComponentSummary:\n",
    "        query_fps = self._mols_to_fingerprints(molecules)\n",
    "        score = self._calculate_tanimoto(query_fps, self._fingerprints)\n",
    "        score_summary = ComponentSummary(total_score=score, parameters=self.parameters)\n",
    "        return score_summary\n",
    "\n",
    "    def _mols_to_fingerprints(self, molecules: List, radius=3, useCounts=True, useFeatures=True) -> []:\n",
    "        fingerprints = [AllChem.GetMorganFingerprint(\n",
    "            mol,\n",
    "            radius,\n",
    "            useCounts=useCounts,\n",
    "            useFeatures=useFeatures\n",
    "        ) for mol in molecules]\n",
    "        return fingerprints\n",
    "\n",
    "    def _calculate_tanimoto(self, query_fps, ref_fingerprints) -> np.array:\n",
    "        # Edited by Ersilia transformer\n",
    "        return np.array([np.max(DataStructs.BulkTanimotoSimilarity(fp, ref_fingerprints)) for fp in query_fps])"
   ]
  },
  {
   "cell_type": "code",
   "execution_count": 8,
   "id": "dc7cd595",
   "metadata": {},
   "outputs": [],
   "source": [
    "import os\n",
    "import numpy as np\n",
    "import pickle\n",
    "\n",
    "from rdkit import Chem, DataStructs\n",
    "from rdkit.Chem import AllChem\n",
    "from rdkit.DataStructs import cDataStructs\n",
    "\n",
    "\n",
    "class RAScorerXGB:\n",
    "    \"\"\"\n",
    "    Prediction of machine learned retrosynthetic accessibility score\n",
    "    The RAScore is calculated based on the predictions made on 200,000 compounds sampled from ChEMBL.\n",
    "    The compounds were subjected to retrosynthetic analysis using a CASP tool (AiZynthfinder) and output used as labels to train a binary classifier.\n",
    "    If the compounds are ChEMBL like use the RAscore models.\n",
    "    Else if the compounds are more exotic, are small fragments, or closely resemble GDB. GBDscore may give a better result.\n",
    "    This class facilitates predictions from the resulting model.\n",
    "    \"\"\"\n",
    "\n",
    "    def __init__(self, model_path=None):\n",
    "        \"\"\"\n",
    "        Loads the model.\n",
    "        :param model_path: path to the XGBoost model (.pkl) file\n",
    "        :type model_path: pkl\n",
    "        \"\"\"\n",
    "        self.xgb_model = pickle.load(open(os.path.abspath(model_path), \"rb\"))\n",
    "\n",
    "    def ecfp(self, smiles):\n",
    "        \"\"\"\n",
    "        Converts SMILES into a counted ECFP6 vector with features.\n",
    "        :param smiles: SMILES representation of the moelcule of interest\n",
    "        :type smiles: str\n",
    "        :return: ECFP6 counted vector with features\n",
    "        :rtype: np.array\n",
    "        \"\"\"\n",
    "        mol = Chem.MolFromSmiles(smiles)\n",
    "        fp = AllChem.GetMorganFingerprint(mol, 3, useCounts=True, useFeatures=False)\n",
    "        size = 2048\n",
    "        arr = np.zeros((size,), np.int32)\n",
    "        for idx, v in fp.GetNonzeroElements().items():\n",
    "            nidx = idx % size\n",
    "            arr[nidx] += int(v)\n",
    "        return arr\n",
    "\n",
    "    def predict(self, smiles):\n",
    "        \"\"\"\n",
    "        Predicts score from SMILES.\n",
    "        :param smiles: SMILES representation of the moelcule of interest\n",
    "        :type smiles: str\n",
    "        :return: score\n",
    "        :rtype: float\n",
    "        \"\"\"\n",
    "        arr = self.ecfp(smiles)\n",
    "        proba = self.xgb_model.predict_proba(arr.reshape(1, -1))\n",
    "        return proba[0][1]"
   ]
  },
  {
   "cell_type": "code",
   "execution_count": 9,
   "id": "38dbb81e",
   "metadata": {},
   "outputs": [],
   "source": [
    "model_path=\"../model/RA_model.pkl\""
   ]
  },
  {
   "cell_type": "code",
   "execution_count": 10,
   "id": "9cb9579f",
   "metadata": {},
   "outputs": [],
   "source": [
    "ra = RAScorerXGB(model_path)"
   ]
  },
  {
   "cell_type": "code",
   "execution_count": 7,
   "id": "38dfa68a",
   "metadata": {},
   "outputs": [
    {
     "name": "stdout",
     "output_type": "stream",
     "text": [
      "Collecting xgboost\n",
      "  Downloading xgboost-1.4.2-py3-none-win_amd64.whl (97.8 MB)\n",
      "Requirement already satisfied: scipy in c:\\users\\gemma\\anaconda3\\envs\\malariaosm\\lib\\site-packages (from xgboost) (1.6.3)\n",
      "Requirement already satisfied: numpy in c:\\users\\gemma\\anaconda3\\envs\\malariaosm\\lib\\site-packages (from xgboost) (1.19.5)\n",
      "Installing collected packages: xgboost\n",
      "Successfully installed xgboost-1.4.2\n"
     ]
    }
   ],
   "source": [
    "!pip install xgboost"
   ]
  },
  {
   "cell_type": "code",
   "execution_count": 11,
   "id": "a3482c6b",
   "metadata": {},
   "outputs": [
    {
     "ename": "AttributeError",
     "evalue": "'XGBClassifier' object has no attribute 'use_label_encoder'",
     "output_type": "error",
     "traceback": [
      "\u001b[1;31m---------------------------------------------------------------------------\u001b[0m",
      "\u001b[1;31mAttributeError\u001b[0m                            Traceback (most recent call last)",
      "\u001b[1;32m<ipython-input-11-6fbf6938a7c2>\u001b[0m in \u001b[0;36m<module>\u001b[1;34m\u001b[0m\n\u001b[1;32m----> 1\u001b[1;33m \u001b[0mra\u001b[0m\u001b[1;33m.\u001b[0m\u001b[0mpredict\u001b[0m\u001b[1;33m(\u001b[0m\u001b[1;34m\"CCCOCC\"\u001b[0m\u001b[1;33m)\u001b[0m\u001b[1;33m\u001b[0m\u001b[1;33m\u001b[0m\u001b[0m\n\u001b[0m",
      "\u001b[1;32m<ipython-input-8-0d58803a3e91>\u001b[0m in \u001b[0;36mpredict\u001b[1;34m(self, smiles)\u001b[0m\n\u001b[0;32m     52\u001b[0m         \"\"\"\n\u001b[0;32m     53\u001b[0m         \u001b[0marr\u001b[0m \u001b[1;33m=\u001b[0m \u001b[0mself\u001b[0m\u001b[1;33m.\u001b[0m\u001b[0mecfp\u001b[0m\u001b[1;33m(\u001b[0m\u001b[0msmiles\u001b[0m\u001b[1;33m)\u001b[0m\u001b[1;33m\u001b[0m\u001b[1;33m\u001b[0m\u001b[0m\n\u001b[1;32m---> 54\u001b[1;33m         \u001b[0mproba\u001b[0m \u001b[1;33m=\u001b[0m \u001b[0mself\u001b[0m\u001b[1;33m.\u001b[0m\u001b[0mxgb_model\u001b[0m\u001b[1;33m.\u001b[0m\u001b[0mpredict_proba\u001b[0m\u001b[1;33m(\u001b[0m\u001b[0marr\u001b[0m\u001b[1;33m.\u001b[0m\u001b[0mreshape\u001b[0m\u001b[1;33m(\u001b[0m\u001b[1;36m1\u001b[0m\u001b[1;33m,\u001b[0m \u001b[1;33m-\u001b[0m\u001b[1;36m1\u001b[0m\u001b[1;33m)\u001b[0m\u001b[1;33m)\u001b[0m\u001b[1;33m\u001b[0m\u001b[1;33m\u001b[0m\u001b[0m\n\u001b[0m\u001b[0;32m     55\u001b[0m         \u001b[1;32mreturn\u001b[0m \u001b[0mproba\u001b[0m\u001b[1;33m[\u001b[0m\u001b[1;36m0\u001b[0m\u001b[1;33m]\u001b[0m\u001b[1;33m[\u001b[0m\u001b[1;36m1\u001b[0m\u001b[1;33m]\u001b[0m\u001b[1;33m\u001b[0m\u001b[1;33m\u001b[0m\u001b[0m\n",
      "\u001b[1;32m~\\Anaconda3\\envs\\malariaOSM\\lib\\site-packages\\xgboost\\sklearn.py\u001b[0m in \u001b[0;36mpredict_proba\u001b[1;34m(self, X, ntree_limit, validate_features, base_margin, iteration_range)\u001b[0m\n\u001b[0;32m   1277\u001b[0m             \u001b[0mvalidate_features\u001b[0m\u001b[1;33m=\u001b[0m\u001b[0mvalidate_features\u001b[0m\u001b[1;33m,\u001b[0m\u001b[1;33m\u001b[0m\u001b[1;33m\u001b[0m\u001b[0m\n\u001b[0;32m   1278\u001b[0m             \u001b[0mbase_margin\u001b[0m\u001b[1;33m=\u001b[0m\u001b[0mbase_margin\u001b[0m\u001b[1;33m,\u001b[0m\u001b[1;33m\u001b[0m\u001b[1;33m\u001b[0m\u001b[0m\n\u001b[1;32m-> 1279\u001b[1;33m             \u001b[0miteration_range\u001b[0m\u001b[1;33m=\u001b[0m\u001b[0miteration_range\u001b[0m\u001b[1;33m\u001b[0m\u001b[1;33m\u001b[0m\u001b[0m\n\u001b[0m\u001b[0;32m   1280\u001b[0m         )\n\u001b[0;32m   1281\u001b[0m         \u001b[1;31m# If model is loaded from a raw booster there's no `n_classes_`\u001b[0m\u001b[1;33m\u001b[0m\u001b[1;33m\u001b[0m\u001b[1;33m\u001b[0m\u001b[0m\n",
      "\u001b[1;32m~\\Anaconda3\\envs\\malariaOSM\\lib\\site-packages\\xgboost\\sklearn.py\u001b[0m in \u001b[0;36mpredict\u001b[1;34m(self, X, output_margin, ntree_limit, validate_features, base_margin, iteration_range)\u001b[0m\n\u001b[0;32m    816\u001b[0m         )\n\u001b[0;32m    817\u001b[0m         \u001b[0miteration_range\u001b[0m \u001b[1;33m=\u001b[0m \u001b[0mself\u001b[0m\u001b[1;33m.\u001b[0m\u001b[0m_get_iteration_range\u001b[0m\u001b[1;33m(\u001b[0m\u001b[0miteration_range\u001b[0m\u001b[1;33m)\u001b[0m\u001b[1;33m\u001b[0m\u001b[1;33m\u001b[0m\u001b[0m\n\u001b[1;32m--> 818\u001b[1;33m         \u001b[1;32mif\u001b[0m \u001b[0mself\u001b[0m\u001b[1;33m.\u001b[0m\u001b[0m_can_use_inplace_predict\u001b[0m\u001b[1;33m(\u001b[0m\u001b[1;33m)\u001b[0m\u001b[1;33m:\u001b[0m\u001b[1;33m\u001b[0m\u001b[1;33m\u001b[0m\u001b[0m\n\u001b[0m\u001b[0;32m    819\u001b[0m             \u001b[1;32mtry\u001b[0m\u001b[1;33m:\u001b[0m\u001b[1;33m\u001b[0m\u001b[1;33m\u001b[0m\u001b[0m\n\u001b[0;32m    820\u001b[0m                 predts = self.get_booster().inplace_predict(\n",
      "\u001b[1;32m~\\Anaconda3\\envs\\malariaOSM\\lib\\site-packages\\xgboost\\sklearn.py\u001b[0m in \u001b[0;36m_can_use_inplace_predict\u001b[1;34m(self)\u001b[0m\n\u001b[0;32m    756\u001b[0m         \u001b[1;31m# Inplace predict doesn't handle as many data types as DMatrix, but it's\u001b[0m\u001b[1;33m\u001b[0m\u001b[1;33m\u001b[0m\u001b[1;33m\u001b[0m\u001b[0m\n\u001b[0;32m    757\u001b[0m         \u001b[1;31m# sufficient for dask interface where input is simpiler.\u001b[0m\u001b[1;33m\u001b[0m\u001b[1;33m\u001b[0m\u001b[1;33m\u001b[0m\u001b[0m\n\u001b[1;32m--> 758\u001b[1;33m         \u001b[0mparams\u001b[0m \u001b[1;33m=\u001b[0m \u001b[0mself\u001b[0m\u001b[1;33m.\u001b[0m\u001b[0mget_params\u001b[0m\u001b[1;33m(\u001b[0m\u001b[1;33m)\u001b[0m\u001b[1;33m\u001b[0m\u001b[1;33m\u001b[0m\u001b[0m\n\u001b[0m\u001b[0;32m    759\u001b[0m         \u001b[1;32mif\u001b[0m \u001b[0mparams\u001b[0m\u001b[1;33m.\u001b[0m\u001b[0mget\u001b[0m\u001b[1;33m(\u001b[0m\u001b[1;34m\"predictor\"\u001b[0m\u001b[1;33m,\u001b[0m \u001b[1;32mNone\u001b[0m\u001b[1;33m)\u001b[0m \u001b[1;32mis\u001b[0m \u001b[1;32mNone\u001b[0m \u001b[1;32mand\u001b[0m \u001b[0mself\u001b[0m\u001b[1;33m.\u001b[0m\u001b[0mbooster\u001b[0m \u001b[1;33m!=\u001b[0m \u001b[1;34m\"gblinear\"\u001b[0m\u001b[1;33m:\u001b[0m\u001b[1;33m\u001b[0m\u001b[1;33m\u001b[0m\u001b[0m\n\u001b[0;32m    760\u001b[0m             \u001b[1;32mreturn\u001b[0m \u001b[1;32mTrue\u001b[0m\u001b[1;33m\u001b[0m\u001b[1;33m\u001b[0m\u001b[0m\n",
      "\u001b[1;32m~\\Anaconda3\\envs\\malariaOSM\\lib\\site-packages\\xgboost\\sklearn.py\u001b[0m in \u001b[0;36mget_params\u001b[1;34m(self, deep)\u001b[0m\n\u001b[0;32m    436\u001b[0m         \u001b[1;31m# 2. Return whatever in `**kwargs`.\u001b[0m\u001b[1;33m\u001b[0m\u001b[1;33m\u001b[0m\u001b[1;33m\u001b[0m\u001b[0m\n\u001b[0;32m    437\u001b[0m         \u001b[1;31m# 3. Merge them.\u001b[0m\u001b[1;33m\u001b[0m\u001b[1;33m\u001b[0m\u001b[1;33m\u001b[0m\u001b[0m\n\u001b[1;32m--> 438\u001b[1;33m         \u001b[0mparams\u001b[0m \u001b[1;33m=\u001b[0m \u001b[0msuper\u001b[0m\u001b[1;33m(\u001b[0m\u001b[1;33m)\u001b[0m\u001b[1;33m.\u001b[0m\u001b[0mget_params\u001b[0m\u001b[1;33m(\u001b[0m\u001b[0mdeep\u001b[0m\u001b[1;33m)\u001b[0m\u001b[1;33m\u001b[0m\u001b[1;33m\u001b[0m\u001b[0m\n\u001b[0m\u001b[0;32m    439\u001b[0m         \u001b[0mcp\u001b[0m \u001b[1;33m=\u001b[0m \u001b[0mcopy\u001b[0m\u001b[1;33m.\u001b[0m\u001b[0mcopy\u001b[0m\u001b[1;33m(\u001b[0m\u001b[0mself\u001b[0m\u001b[1;33m)\u001b[0m\u001b[1;33m\u001b[0m\u001b[1;33m\u001b[0m\u001b[0m\n\u001b[0;32m    440\u001b[0m         \u001b[0mcp\u001b[0m\u001b[1;33m.\u001b[0m\u001b[0m__class__\u001b[0m \u001b[1;33m=\u001b[0m \u001b[0mcp\u001b[0m\u001b[1;33m.\u001b[0m\u001b[0m__class__\u001b[0m\u001b[1;33m.\u001b[0m\u001b[0m__bases__\u001b[0m\u001b[1;33m[\u001b[0m\u001b[1;36m0\u001b[0m\u001b[1;33m]\u001b[0m\u001b[1;33m\u001b[0m\u001b[1;33m\u001b[0m\u001b[0m\n",
      "\u001b[1;32m~\\Anaconda3\\envs\\malariaOSM\\lib\\site-packages\\sklearn\\base.py\u001b[0m in \u001b[0;36mget_params\u001b[1;34m(self, deep)\u001b[0m\n\u001b[0;32m    193\u001b[0m         \u001b[0mout\u001b[0m \u001b[1;33m=\u001b[0m \u001b[0mdict\u001b[0m\u001b[1;33m(\u001b[0m\u001b[1;33m)\u001b[0m\u001b[1;33m\u001b[0m\u001b[1;33m\u001b[0m\u001b[0m\n\u001b[0;32m    194\u001b[0m         \u001b[1;32mfor\u001b[0m \u001b[0mkey\u001b[0m \u001b[1;32min\u001b[0m \u001b[0mself\u001b[0m\u001b[1;33m.\u001b[0m\u001b[0m_get_param_names\u001b[0m\u001b[1;33m(\u001b[0m\u001b[1;33m)\u001b[0m\u001b[1;33m:\u001b[0m\u001b[1;33m\u001b[0m\u001b[1;33m\u001b[0m\u001b[0m\n\u001b[1;32m--> 195\u001b[1;33m             \u001b[0mvalue\u001b[0m \u001b[1;33m=\u001b[0m \u001b[0mgetattr\u001b[0m\u001b[1;33m(\u001b[0m\u001b[0mself\u001b[0m\u001b[1;33m,\u001b[0m \u001b[0mkey\u001b[0m\u001b[1;33m)\u001b[0m\u001b[1;33m\u001b[0m\u001b[1;33m\u001b[0m\u001b[0m\n\u001b[0m\u001b[0;32m    196\u001b[0m             \u001b[1;32mif\u001b[0m \u001b[0mdeep\u001b[0m \u001b[1;32mand\u001b[0m \u001b[0mhasattr\u001b[0m\u001b[1;33m(\u001b[0m\u001b[0mvalue\u001b[0m\u001b[1;33m,\u001b[0m \u001b[1;34m'get_params'\u001b[0m\u001b[1;33m)\u001b[0m\u001b[1;33m:\u001b[0m\u001b[1;33m\u001b[0m\u001b[1;33m\u001b[0m\u001b[0m\n\u001b[0;32m    197\u001b[0m                 \u001b[0mdeep_items\u001b[0m \u001b[1;33m=\u001b[0m \u001b[0mvalue\u001b[0m\u001b[1;33m.\u001b[0m\u001b[0mget_params\u001b[0m\u001b[1;33m(\u001b[0m\u001b[1;33m)\u001b[0m\u001b[1;33m.\u001b[0m\u001b[0mitems\u001b[0m\u001b[1;33m(\u001b[0m\u001b[1;33m)\u001b[0m\u001b[1;33m\u001b[0m\u001b[1;33m\u001b[0m\u001b[0m\n",
      "\u001b[1;31mAttributeError\u001b[0m: 'XGBClassifier' object has no attribute 'use_label_encoder'"
     ]
    }
   ],
   "source": [
    "ra.predict(\"CCCOCC\")"
   ]
  },
  {
   "cell_type": "code",
   "execution_count": 14,
   "id": "ca835696",
   "metadata": {},
   "outputs": [
    {
     "name": "stderr",
     "output_type": "stream",
     "text": [
      "ERROR: Could not find a version that satisfies the requirement xbgoost==1.2 (from versions: none)\n",
      "ERROR: No matching distribution found for xbgoost==1.2\n"
     ]
    }
   ],
   "source": []
  },
  {
   "cell_type": "code",
   "execution_count": null,
   "id": "5df3ee26",
   "metadata": {},
   "outputs": [],
   "source": []
  }
 ],
 "metadata": {
  "kernelspec": {
   "display_name": "Python 3",
   "language": "python",
   "name": "python3"
  },
  "language_info": {
   "codemirror_mode": {
    "name": "ipython",
    "version": 3
   },
   "file_extension": ".py",
   "mimetype": "text/x-python",
   "name": "python",
   "nbconvert_exporter": "python",
   "pygments_lexer": "ipython3",
   "version": "3.7.10"
  }
 },
 "nbformat": 4,
 "nbformat_minor": 5
}
